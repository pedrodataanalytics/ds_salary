{
 "cells": [
  {
   "cell_type": "markdown",
   "source": [
    "# Importing"
   ],
   "metadata": {
    "collapsed": false
   }
  },
  {
   "cell_type": "code",
   "execution_count": 1,
   "metadata": {
    "collapsed": true,
    "ExecuteTime": {
     "start_time": "2023-04-08T20:31:18.244748Z",
     "end_time": "2023-04-08T20:31:19.486249Z"
    }
   },
   "outputs": [],
   "source": [
    "import pandas as pd\n",
    "\n"
   ]
  },
  {
   "cell_type": "markdown",
   "source": [
    "# Reading Data"
   ],
   "metadata": {
    "collapsed": false
   }
  },
  {
   "cell_type": "code",
   "execution_count": 2,
   "outputs": [
    {
     "data": {
      "text/plain": "     Unnamed: 0                                          Job Title  \\\n0             0                                     Data Scientist   \n1             1                          Healthcare Data Scientist   \n2             2                                     Data Scientist   \n3             3                                     Data Scientist   \n4             4                                     Data Scientist   \n..          ...                                                ...   \n951         951                               Senior Data Engineer   \n952         952  Project Scientist - Auton Lab, Robotics Institute   \n953         953                               Data Science Manager   \n954         954                                      Data Engineer   \n955         955          Research Scientist – Security and Privacy   \n\n                 Salary Estimate  \\\n0     $53K-$91K (Glassdoor est.)   \n1    $63K-$112K (Glassdoor est.)   \n2     $80K-$90K (Glassdoor est.)   \n3     $56K-$97K (Glassdoor est.)   \n4    $86K-$143K (Glassdoor est.)   \n..                           ...   \n951  $72K-$133K (Glassdoor est.)   \n952   $56K-$91K (Glassdoor est.)   \n953  $95K-$160K (Glassdoor est.)   \n954                           -1   \n955  $61K-$126K (Glassdoor est.)   \n\n                                       Job Description  Rating  \\\n0    Data Scientist\\nLocation: Albuquerque, NM\\nEdu...     3.8   \n1    What You Will Do:\\n\\nI. General Summary\\n\\nThe...     3.4   \n2    KnowBe4, Inc. is a high growth information sec...     4.8   \n3    *Organization and Job ID**\\nJob ID: 310709\\n\\n...     3.8   \n4    Data Scientist\\nAffinity Solutions / Marketing...     2.9   \n..                                                 ...     ...   \n951  THE CHALLENGE\\nEventbrite has a world-class da...     4.4   \n952  The Auton Lab at Carnegie Mellon University is...     2.6   \n953  Data Science ManagerResponsibilities:\\n\\nOvers...     3.2   \n954  Loading...\\n\\nTitle: Data Engineer\\n\\nLocation...     4.8   \n955  Returning Candidate? Log back in to the Career...     3.6   \n\n                                   Company Name         Location  \\\n0                        Tecolote Research\\n3.8  Albuquerque, NM   \n1    University of Maryland Medical System\\n3.4    Linthicum, MD   \n2                                  KnowBe4\\n4.8   Clearwater, FL   \n3                                     PNNL\\n3.8     Richland, WA   \n4                       Affinity Solutions\\n2.9     New York, NY   \n..                                          ...              ...   \n951                             Eventbrite\\n4.4    Nashville, TN   \n952         Software Engineering Institute\\n2.6   Pittsburgh, PA   \n953                           Numeric, LLC\\n3.2    Allentown, PA   \n954                                   IGNW\\n4.8       Austin, TX   \n955           Riverside Research Institute\\n3.6  Beavercreek, OH   \n\n          Headquarters                    Size  Founded  \\\n0           Goleta, CA   501 to 1000 employees     1973   \n1        Baltimore, MD        10000+ employees     1984   \n2       Clearwater, FL   501 to 1000 employees     2010   \n3         Richland, WA  1001 to 5000 employees     1965   \n4         New York, NY     51 to 200 employees     1998   \n..                 ...                     ...      ...   \n951  San Francisco, CA  1001 to 5000 employees     2006   \n952     Pittsburgh, PA   501 to 1000 employees     1984   \n953    Chadds Ford, PA       1 to 50 employees       -1   \n954       Portland, OR    201 to 500 employees     2015   \n955      Arlington, VA   501 to 1000 employees     1967   \n\n          Type of ownership                          Industry  \\\n0         Company - Private               Aerospace & Defense   \n1        Other Organization  Health Care Services & Hospitals   \n2         Company - Private                 Security Services   \n3                Government                            Energy   \n4         Company - Private           Advertising & Marketing   \n..                      ...                               ...   \n951        Company - Public                          Internet   \n952    College / University           Colleges & Universities   \n953       Company - Private            Staffing & Outsourcing   \n954       Company - Private                       IT Services   \n955  Nonprofit Organization                  Federal Agencies   \n\n                           Sector                           Revenue  \\\n0             Aerospace & Defense         $50 to $100 million (USD)   \n1                     Health Care            $2 to $5 billion (USD)   \n2               Business Services        $100 to $500 million (USD)   \n3    Oil, Gas, Energy & Utilities  $500 million to $1 billion (USD)   \n4               Business Services          Unknown / Non-Applicable   \n..                            ...                               ...   \n951        Information Technology        $100 to $500 million (USD)   \n952                     Education          Unknown / Non-Applicable   \n953             Business Services           $5 to $10 million (USD)   \n954        Information Technology          $25 to $50 million (USD)   \n955                    Government         $50 to $100 million (USD)   \n\n                                           Competitors  \n0                                                   -1  \n1                                                   -1  \n2                                                   -1  \n3    Oak Ridge National Laboratory, National Renewa...  \n4                 Commerce Signals, Cardlytics, Yodlee  \n..                                                 ...  \n951                    See Tickets, TicketWeb, Vendini  \n952                                                 -1  \n953                                                 -1  \n954                                             Slalom  \n955                                                 -1  \n\n[956 rows x 15 columns]",
      "text/html": "<div>\n<style scoped>\n    .dataframe tbody tr th:only-of-type {\n        vertical-align: middle;\n    }\n\n    .dataframe tbody tr th {\n        vertical-align: top;\n    }\n\n    .dataframe thead th {\n        text-align: right;\n    }\n</style>\n<table border=\"1\" class=\"dataframe\">\n  <thead>\n    <tr style=\"text-align: right;\">\n      <th></th>\n      <th>Unnamed: 0</th>\n      <th>Job Title</th>\n      <th>Salary Estimate</th>\n      <th>Job Description</th>\n      <th>Rating</th>\n      <th>Company Name</th>\n      <th>Location</th>\n      <th>Headquarters</th>\n      <th>Size</th>\n      <th>Founded</th>\n      <th>Type of ownership</th>\n      <th>Industry</th>\n      <th>Sector</th>\n      <th>Revenue</th>\n      <th>Competitors</th>\n    </tr>\n  </thead>\n  <tbody>\n    <tr>\n      <th>0</th>\n      <td>0</td>\n      <td>Data Scientist</td>\n      <td>$53K-$91K (Glassdoor est.)</td>\n      <td>Data Scientist\\nLocation: Albuquerque, NM\\nEdu...</td>\n      <td>3.8</td>\n      <td>Tecolote Research\\n3.8</td>\n      <td>Albuquerque, NM</td>\n      <td>Goleta, CA</td>\n      <td>501 to 1000 employees</td>\n      <td>1973</td>\n      <td>Company - Private</td>\n      <td>Aerospace &amp; Defense</td>\n      <td>Aerospace &amp; Defense</td>\n      <td>$50 to $100 million (USD)</td>\n      <td>-1</td>\n    </tr>\n    <tr>\n      <th>1</th>\n      <td>1</td>\n      <td>Healthcare Data Scientist</td>\n      <td>$63K-$112K (Glassdoor est.)</td>\n      <td>What You Will Do:\\n\\nI. General Summary\\n\\nThe...</td>\n      <td>3.4</td>\n      <td>University of Maryland Medical System\\n3.4</td>\n      <td>Linthicum, MD</td>\n      <td>Baltimore, MD</td>\n      <td>10000+ employees</td>\n      <td>1984</td>\n      <td>Other Organization</td>\n      <td>Health Care Services &amp; Hospitals</td>\n      <td>Health Care</td>\n      <td>$2 to $5 billion (USD)</td>\n      <td>-1</td>\n    </tr>\n    <tr>\n      <th>2</th>\n      <td>2</td>\n      <td>Data Scientist</td>\n      <td>$80K-$90K (Glassdoor est.)</td>\n      <td>KnowBe4, Inc. is a high growth information sec...</td>\n      <td>4.8</td>\n      <td>KnowBe4\\n4.8</td>\n      <td>Clearwater, FL</td>\n      <td>Clearwater, FL</td>\n      <td>501 to 1000 employees</td>\n      <td>2010</td>\n      <td>Company - Private</td>\n      <td>Security Services</td>\n      <td>Business Services</td>\n      <td>$100 to $500 million (USD)</td>\n      <td>-1</td>\n    </tr>\n    <tr>\n      <th>3</th>\n      <td>3</td>\n      <td>Data Scientist</td>\n      <td>$56K-$97K (Glassdoor est.)</td>\n      <td>*Organization and Job ID**\\nJob ID: 310709\\n\\n...</td>\n      <td>3.8</td>\n      <td>PNNL\\n3.8</td>\n      <td>Richland, WA</td>\n      <td>Richland, WA</td>\n      <td>1001 to 5000 employees</td>\n      <td>1965</td>\n      <td>Government</td>\n      <td>Energy</td>\n      <td>Oil, Gas, Energy &amp; Utilities</td>\n      <td>$500 million to $1 billion (USD)</td>\n      <td>Oak Ridge National Laboratory, National Renewa...</td>\n    </tr>\n    <tr>\n      <th>4</th>\n      <td>4</td>\n      <td>Data Scientist</td>\n      <td>$86K-$143K (Glassdoor est.)</td>\n      <td>Data Scientist\\nAffinity Solutions / Marketing...</td>\n      <td>2.9</td>\n      <td>Affinity Solutions\\n2.9</td>\n      <td>New York, NY</td>\n      <td>New York, NY</td>\n      <td>51 to 200 employees</td>\n      <td>1998</td>\n      <td>Company - Private</td>\n      <td>Advertising &amp; Marketing</td>\n      <td>Business Services</td>\n      <td>Unknown / Non-Applicable</td>\n      <td>Commerce Signals, Cardlytics, Yodlee</td>\n    </tr>\n    <tr>\n      <th>...</th>\n      <td>...</td>\n      <td>...</td>\n      <td>...</td>\n      <td>...</td>\n      <td>...</td>\n      <td>...</td>\n      <td>...</td>\n      <td>...</td>\n      <td>...</td>\n      <td>...</td>\n      <td>...</td>\n      <td>...</td>\n      <td>...</td>\n      <td>...</td>\n      <td>...</td>\n    </tr>\n    <tr>\n      <th>951</th>\n      <td>951</td>\n      <td>Senior Data Engineer</td>\n      <td>$72K-$133K (Glassdoor est.)</td>\n      <td>THE CHALLENGE\\nEventbrite has a world-class da...</td>\n      <td>4.4</td>\n      <td>Eventbrite\\n4.4</td>\n      <td>Nashville, TN</td>\n      <td>San Francisco, CA</td>\n      <td>1001 to 5000 employees</td>\n      <td>2006</td>\n      <td>Company - Public</td>\n      <td>Internet</td>\n      <td>Information Technology</td>\n      <td>$100 to $500 million (USD)</td>\n      <td>See Tickets, TicketWeb, Vendini</td>\n    </tr>\n    <tr>\n      <th>952</th>\n      <td>952</td>\n      <td>Project Scientist - Auton Lab, Robotics Institute</td>\n      <td>$56K-$91K (Glassdoor est.)</td>\n      <td>The Auton Lab at Carnegie Mellon University is...</td>\n      <td>2.6</td>\n      <td>Software Engineering Institute\\n2.6</td>\n      <td>Pittsburgh, PA</td>\n      <td>Pittsburgh, PA</td>\n      <td>501 to 1000 employees</td>\n      <td>1984</td>\n      <td>College / University</td>\n      <td>Colleges &amp; Universities</td>\n      <td>Education</td>\n      <td>Unknown / Non-Applicable</td>\n      <td>-1</td>\n    </tr>\n    <tr>\n      <th>953</th>\n      <td>953</td>\n      <td>Data Science Manager</td>\n      <td>$95K-$160K (Glassdoor est.)</td>\n      <td>Data Science ManagerResponsibilities:\\n\\nOvers...</td>\n      <td>3.2</td>\n      <td>Numeric, LLC\\n3.2</td>\n      <td>Allentown, PA</td>\n      <td>Chadds Ford, PA</td>\n      <td>1 to 50 employees</td>\n      <td>-1</td>\n      <td>Company - Private</td>\n      <td>Staffing &amp; Outsourcing</td>\n      <td>Business Services</td>\n      <td>$5 to $10 million (USD)</td>\n      <td>-1</td>\n    </tr>\n    <tr>\n      <th>954</th>\n      <td>954</td>\n      <td>Data Engineer</td>\n      <td>-1</td>\n      <td>Loading...\\n\\nTitle: Data Engineer\\n\\nLocation...</td>\n      <td>4.8</td>\n      <td>IGNW\\n4.8</td>\n      <td>Austin, TX</td>\n      <td>Portland, OR</td>\n      <td>201 to 500 employees</td>\n      <td>2015</td>\n      <td>Company - Private</td>\n      <td>IT Services</td>\n      <td>Information Technology</td>\n      <td>$25 to $50 million (USD)</td>\n      <td>Slalom</td>\n    </tr>\n    <tr>\n      <th>955</th>\n      <td>955</td>\n      <td>Research Scientist – Security and Privacy</td>\n      <td>$61K-$126K (Glassdoor est.)</td>\n      <td>Returning Candidate? Log back in to the Career...</td>\n      <td>3.6</td>\n      <td>Riverside Research Institute\\n3.6</td>\n      <td>Beavercreek, OH</td>\n      <td>Arlington, VA</td>\n      <td>501 to 1000 employees</td>\n      <td>1967</td>\n      <td>Nonprofit Organization</td>\n      <td>Federal Agencies</td>\n      <td>Government</td>\n      <td>$50 to $100 million (USD)</td>\n      <td>-1</td>\n    </tr>\n  </tbody>\n</table>\n<p>956 rows × 15 columns</p>\n</div>"
     },
     "execution_count": 2,
     "metadata": {},
     "output_type": "execute_result"
    }
   ],
   "source": [
    "df=pd.read_csv('scraped_jobs.txt')\n",
    "df"
   ],
   "metadata": {
    "collapsed": false,
    "ExecuteTime": {
     "start_time": "2023-04-08T20:31:19.487091Z",
     "end_time": "2023-04-08T20:31:19.542575Z"
    }
   }
  },
  {
   "cell_type": "markdown",
   "source": [
    "# Data Info"
   ],
   "metadata": {
    "collapsed": false
   }
  },
  {
   "cell_type": "code",
   "execution_count": 3,
   "outputs": [
    {
     "name": "stdout",
     "output_type": "stream",
     "text": [
      "<class 'pandas.core.frame.DataFrame'>\n",
      "RangeIndex: 956 entries, 0 to 955\n",
      "Data columns (total 15 columns):\n",
      " #   Column             Non-Null Count  Dtype  \n",
      "---  ------             --------------  -----  \n",
      " 0   Unnamed: 0         956 non-null    int64  \n",
      " 1   Job Title          956 non-null    object \n",
      " 2   Salary Estimate    956 non-null    object \n",
      " 3   Job Description    956 non-null    object \n",
      " 4   Rating             956 non-null    float64\n",
      " 5   Company Name       956 non-null    object \n",
      " 6   Location           956 non-null    object \n",
      " 7   Headquarters       956 non-null    object \n",
      " 8   Size               956 non-null    object \n",
      " 9   Founded            956 non-null    int64  \n",
      " 10  Type of ownership  956 non-null    object \n",
      " 11  Industry           956 non-null    object \n",
      " 12  Sector             956 non-null    object \n",
      " 13  Revenue            956 non-null    object \n",
      " 14  Competitors        956 non-null    object \n",
      "dtypes: float64(1), int64(2), object(12)\n",
      "memory usage: 112.2+ KB\n"
     ]
    }
   ],
   "source": [
    "df.info()"
   ],
   "metadata": {
    "collapsed": false,
    "ExecuteTime": {
     "start_time": "2023-04-08T20:31:19.550195Z",
     "end_time": "2023-04-08T20:31:19.552899Z"
    }
   }
  },
  {
   "cell_type": "markdown",
   "source": [
    "# Cleaning Data"
   ],
   "metadata": {
    "collapsed": false
   }
  },
  {
   "cell_type": "markdown",
   "source": [
    "## Salary"
   ],
   "metadata": {
    "collapsed": false
   }
  },
  {
   "cell_type": "code",
   "execution_count": 5,
   "outputs": [],
   "source": [
    "df = df[df['Salary Estimate'] != '-1'] #removing data with -1 in salary field"
   ],
   "metadata": {
    "collapsed": false,
    "ExecuteTime": {
     "start_time": "2023-04-08T20:31:19.558052Z",
     "end_time": "2023-04-08T20:31:19.560692Z"
    }
   }
  },
  {
   "cell_type": "code",
   "execution_count": 6,
   "outputs": [
    {
     "data": {
      "text/plain": "     Unnamed: 0                                          Job Title  \\\n0             0                                     Data Scientist   \n1             1                          Healthcare Data Scientist   \n2             2                                     Data Scientist   \n3             3                                     Data Scientist   \n4             4                                     Data Scientist   \n..          ...                                                ...   \n950         950           Sr Scientist, Immuno-Oncology - Oncology   \n951         951                               Senior Data Engineer   \n952         952  Project Scientist - Auton Lab, Robotics Institute   \n953         953                               Data Science Manager   \n955         955          Research Scientist – Security and Privacy   \n\n                 Salary Estimate  \\\n0     $53K-$91K (Glassdoor est.)   \n1    $63K-$112K (Glassdoor est.)   \n2     $80K-$90K (Glassdoor est.)   \n3     $56K-$97K (Glassdoor est.)   \n4    $86K-$143K (Glassdoor est.)   \n..                           ...   \n950  $58K-$111K (Glassdoor est.)   \n951  $72K-$133K (Glassdoor est.)   \n952   $56K-$91K (Glassdoor est.)   \n953  $95K-$160K (Glassdoor est.)   \n955  $61K-$126K (Glassdoor est.)   \n\n                                       Job Description  Rating  \\\n0    Data Scientist\\nLocation: Albuquerque, NM\\nEdu...     3.8   \n1    What You Will Do:\\n\\nI. General Summary\\n\\nThe...     3.4   \n2    KnowBe4, Inc. is a high growth information sec...     4.8   \n3    *Organization and Job ID**\\nJob ID: 310709\\n\\n...     3.8   \n4    Data Scientist\\nAffinity Solutions / Marketing...     2.9   \n..                                                 ...     ...   \n950  Site Name: USA - Massachusetts - Cambridge\\nPo...     3.9   \n951  THE CHALLENGE\\nEventbrite has a world-class da...     4.4   \n952  The Auton Lab at Carnegie Mellon University is...     2.6   \n953  Data Science ManagerResponsibilities:\\n\\nOvers...     3.2   \n955  Returning Candidate? Log back in to the Career...     3.6   \n\n                                   Company Name         Location  \\\n0                        Tecolote Research\\n3.8  Albuquerque, NM   \n1    University of Maryland Medical System\\n3.4    Linthicum, MD   \n2                                  KnowBe4\\n4.8   Clearwater, FL   \n3                                     PNNL\\n3.8     Richland, WA   \n4                       Affinity Solutions\\n2.9     New York, NY   \n..                                          ...              ...   \n950                                    GSK\\n3.9    Cambridge, MA   \n951                             Eventbrite\\n4.4    Nashville, TN   \n952         Software Engineering Institute\\n2.6   Pittsburgh, PA   \n953                           Numeric, LLC\\n3.2    Allentown, PA   \n955           Riverside Research Institute\\n3.6  Beavercreek, OH   \n\n                  Headquarters                    Size  Founded  \\\n0                   Goleta, CA   501 to 1000 employees     1973   \n1                Baltimore, MD        10000+ employees     1984   \n2               Clearwater, FL   501 to 1000 employees     2010   \n3                 Richland, WA  1001 to 5000 employees     1965   \n4                 New York, NY     51 to 200 employees     1998   \n..                         ...                     ...      ...   \n950  Brentford, United Kingdom        10000+ employees     1830   \n951          San Francisco, CA  1001 to 5000 employees     2006   \n952             Pittsburgh, PA   501 to 1000 employees     1984   \n953            Chadds Ford, PA       1 to 50 employees       -1   \n955              Arlington, VA   501 to 1000 employees     1967   \n\n          Type of ownership                          Industry  \\\n0         Company - Private               Aerospace & Defense   \n1        Other Organization  Health Care Services & Hospitals   \n2         Company - Private                 Security Services   \n3                Government                            Energy   \n4         Company - Private           Advertising & Marketing   \n..                      ...                               ...   \n950        Company - Public         Biotech & Pharmaceuticals   \n951        Company - Public                          Internet   \n952    College / University           Colleges & Universities   \n953       Company - Private            Staffing & Outsourcing   \n955  Nonprofit Organization                  Federal Agencies   \n\n                           Sector                           Revenue  \\\n0             Aerospace & Defense         $50 to $100 million (USD)   \n1                     Health Care            $2 to $5 billion (USD)   \n2               Business Services        $100 to $500 million (USD)   \n3    Oil, Gas, Energy & Utilities  $500 million to $1 billion (USD)   \n4               Business Services          Unknown / Non-Applicable   \n..                            ...                               ...   \n950     Biotech & Pharmaceuticals                $10+ billion (USD)   \n951        Information Technology        $100 to $500 million (USD)   \n952                     Education          Unknown / Non-Applicable   \n953             Business Services           $5 to $10 million (USD)   \n955                    Government         $50 to $100 million (USD)   \n\n                                           Competitors  \n0                                                   -1  \n1                                                   -1  \n2                                                   -1  \n3    Oak Ridge National Laboratory, National Renewa...  \n4                 Commerce Signals, Cardlytics, Yodlee  \n..                                                 ...  \n950                         Pfizer, AstraZeneca, Merck  \n951                    See Tickets, TicketWeb, Vendini  \n952                                                 -1  \n953                                                 -1  \n955                                                 -1  \n\n[742 rows x 15 columns]",
      "text/html": "<div>\n<style scoped>\n    .dataframe tbody tr th:only-of-type {\n        vertical-align: middle;\n    }\n\n    .dataframe tbody tr th {\n        vertical-align: top;\n    }\n\n    .dataframe thead th {\n        text-align: right;\n    }\n</style>\n<table border=\"1\" class=\"dataframe\">\n  <thead>\n    <tr style=\"text-align: right;\">\n      <th></th>\n      <th>Unnamed: 0</th>\n      <th>Job Title</th>\n      <th>Salary Estimate</th>\n      <th>Job Description</th>\n      <th>Rating</th>\n      <th>Company Name</th>\n      <th>Location</th>\n      <th>Headquarters</th>\n      <th>Size</th>\n      <th>Founded</th>\n      <th>Type of ownership</th>\n      <th>Industry</th>\n      <th>Sector</th>\n      <th>Revenue</th>\n      <th>Competitors</th>\n    </tr>\n  </thead>\n  <tbody>\n    <tr>\n      <th>0</th>\n      <td>0</td>\n      <td>Data Scientist</td>\n      <td>$53K-$91K (Glassdoor est.)</td>\n      <td>Data Scientist\\nLocation: Albuquerque, NM\\nEdu...</td>\n      <td>3.8</td>\n      <td>Tecolote Research\\n3.8</td>\n      <td>Albuquerque, NM</td>\n      <td>Goleta, CA</td>\n      <td>501 to 1000 employees</td>\n      <td>1973</td>\n      <td>Company - Private</td>\n      <td>Aerospace &amp; Defense</td>\n      <td>Aerospace &amp; Defense</td>\n      <td>$50 to $100 million (USD)</td>\n      <td>-1</td>\n    </tr>\n    <tr>\n      <th>1</th>\n      <td>1</td>\n      <td>Healthcare Data Scientist</td>\n      <td>$63K-$112K (Glassdoor est.)</td>\n      <td>What You Will Do:\\n\\nI. General Summary\\n\\nThe...</td>\n      <td>3.4</td>\n      <td>University of Maryland Medical System\\n3.4</td>\n      <td>Linthicum, MD</td>\n      <td>Baltimore, MD</td>\n      <td>10000+ employees</td>\n      <td>1984</td>\n      <td>Other Organization</td>\n      <td>Health Care Services &amp; Hospitals</td>\n      <td>Health Care</td>\n      <td>$2 to $5 billion (USD)</td>\n      <td>-1</td>\n    </tr>\n    <tr>\n      <th>2</th>\n      <td>2</td>\n      <td>Data Scientist</td>\n      <td>$80K-$90K (Glassdoor est.)</td>\n      <td>KnowBe4, Inc. is a high growth information sec...</td>\n      <td>4.8</td>\n      <td>KnowBe4\\n4.8</td>\n      <td>Clearwater, FL</td>\n      <td>Clearwater, FL</td>\n      <td>501 to 1000 employees</td>\n      <td>2010</td>\n      <td>Company - Private</td>\n      <td>Security Services</td>\n      <td>Business Services</td>\n      <td>$100 to $500 million (USD)</td>\n      <td>-1</td>\n    </tr>\n    <tr>\n      <th>3</th>\n      <td>3</td>\n      <td>Data Scientist</td>\n      <td>$56K-$97K (Glassdoor est.)</td>\n      <td>*Organization and Job ID**\\nJob ID: 310709\\n\\n...</td>\n      <td>3.8</td>\n      <td>PNNL\\n3.8</td>\n      <td>Richland, WA</td>\n      <td>Richland, WA</td>\n      <td>1001 to 5000 employees</td>\n      <td>1965</td>\n      <td>Government</td>\n      <td>Energy</td>\n      <td>Oil, Gas, Energy &amp; Utilities</td>\n      <td>$500 million to $1 billion (USD)</td>\n      <td>Oak Ridge National Laboratory, National Renewa...</td>\n    </tr>\n    <tr>\n      <th>4</th>\n      <td>4</td>\n      <td>Data Scientist</td>\n      <td>$86K-$143K (Glassdoor est.)</td>\n      <td>Data Scientist\\nAffinity Solutions / Marketing...</td>\n      <td>2.9</td>\n      <td>Affinity Solutions\\n2.9</td>\n      <td>New York, NY</td>\n      <td>New York, NY</td>\n      <td>51 to 200 employees</td>\n      <td>1998</td>\n      <td>Company - Private</td>\n      <td>Advertising &amp; Marketing</td>\n      <td>Business Services</td>\n      <td>Unknown / Non-Applicable</td>\n      <td>Commerce Signals, Cardlytics, Yodlee</td>\n    </tr>\n    <tr>\n      <th>...</th>\n      <td>...</td>\n      <td>...</td>\n      <td>...</td>\n      <td>...</td>\n      <td>...</td>\n      <td>...</td>\n      <td>...</td>\n      <td>...</td>\n      <td>...</td>\n      <td>...</td>\n      <td>...</td>\n      <td>...</td>\n      <td>...</td>\n      <td>...</td>\n      <td>...</td>\n    </tr>\n    <tr>\n      <th>950</th>\n      <td>950</td>\n      <td>Sr Scientist, Immuno-Oncology - Oncology</td>\n      <td>$58K-$111K (Glassdoor est.)</td>\n      <td>Site Name: USA - Massachusetts - Cambridge\\nPo...</td>\n      <td>3.9</td>\n      <td>GSK\\n3.9</td>\n      <td>Cambridge, MA</td>\n      <td>Brentford, United Kingdom</td>\n      <td>10000+ employees</td>\n      <td>1830</td>\n      <td>Company - Public</td>\n      <td>Biotech &amp; Pharmaceuticals</td>\n      <td>Biotech &amp; Pharmaceuticals</td>\n      <td>$10+ billion (USD)</td>\n      <td>Pfizer, AstraZeneca, Merck</td>\n    </tr>\n    <tr>\n      <th>951</th>\n      <td>951</td>\n      <td>Senior Data Engineer</td>\n      <td>$72K-$133K (Glassdoor est.)</td>\n      <td>THE CHALLENGE\\nEventbrite has a world-class da...</td>\n      <td>4.4</td>\n      <td>Eventbrite\\n4.4</td>\n      <td>Nashville, TN</td>\n      <td>San Francisco, CA</td>\n      <td>1001 to 5000 employees</td>\n      <td>2006</td>\n      <td>Company - Public</td>\n      <td>Internet</td>\n      <td>Information Technology</td>\n      <td>$100 to $500 million (USD)</td>\n      <td>See Tickets, TicketWeb, Vendini</td>\n    </tr>\n    <tr>\n      <th>952</th>\n      <td>952</td>\n      <td>Project Scientist - Auton Lab, Robotics Institute</td>\n      <td>$56K-$91K (Glassdoor est.)</td>\n      <td>The Auton Lab at Carnegie Mellon University is...</td>\n      <td>2.6</td>\n      <td>Software Engineering Institute\\n2.6</td>\n      <td>Pittsburgh, PA</td>\n      <td>Pittsburgh, PA</td>\n      <td>501 to 1000 employees</td>\n      <td>1984</td>\n      <td>College / University</td>\n      <td>Colleges &amp; Universities</td>\n      <td>Education</td>\n      <td>Unknown / Non-Applicable</td>\n      <td>-1</td>\n    </tr>\n    <tr>\n      <th>953</th>\n      <td>953</td>\n      <td>Data Science Manager</td>\n      <td>$95K-$160K (Glassdoor est.)</td>\n      <td>Data Science ManagerResponsibilities:\\n\\nOvers...</td>\n      <td>3.2</td>\n      <td>Numeric, LLC\\n3.2</td>\n      <td>Allentown, PA</td>\n      <td>Chadds Ford, PA</td>\n      <td>1 to 50 employees</td>\n      <td>-1</td>\n      <td>Company - Private</td>\n      <td>Staffing &amp; Outsourcing</td>\n      <td>Business Services</td>\n      <td>$5 to $10 million (USD)</td>\n      <td>-1</td>\n    </tr>\n    <tr>\n      <th>955</th>\n      <td>955</td>\n      <td>Research Scientist – Security and Privacy</td>\n      <td>$61K-$126K (Glassdoor est.)</td>\n      <td>Returning Candidate? Log back in to the Career...</td>\n      <td>3.6</td>\n      <td>Riverside Research Institute\\n3.6</td>\n      <td>Beavercreek, OH</td>\n      <td>Arlington, VA</td>\n      <td>501 to 1000 employees</td>\n      <td>1967</td>\n      <td>Nonprofit Organization</td>\n      <td>Federal Agencies</td>\n      <td>Government</td>\n      <td>$50 to $100 million (USD)</td>\n      <td>-1</td>\n    </tr>\n  </tbody>\n</table>\n<p>742 rows × 15 columns</p>\n</div>"
     },
     "execution_count": 6,
     "metadata": {},
     "output_type": "execute_result"
    }
   ],
   "source": [
    "df"
   ],
   "metadata": {
    "collapsed": false,
    "ExecuteTime": {
     "start_time": "2023-04-08T20:31:19.573234Z",
     "end_time": "2023-04-08T20:31:19.611908Z"
    }
   }
  },
  {
   "cell_type": "markdown",
   "source": [],
   "metadata": {
    "collapsed": false
   }
  },
  {
   "cell_type": "code",
   "execution_count": 7,
   "outputs": [
    {
     "name": "stderr",
     "output_type": "stream",
     "text": [
      "/var/folders/s3/551538vd1w73xsy14_50l2w80000gn/T/ipykernel_39774/2779339176.py:1: SettingWithCopyWarning: \n",
      "A value is trying to be set on a copy of a slice from a DataFrame.\n",
      "Try using .loc[row_indexer,col_indexer] = value instead\n",
      "\n",
      "See the caveats in the documentation: https://pandas.pydata.org/pandas-docs/stable/user_guide/indexing.html#returning-a-view-versus-a-copy\n",
      "  df['employer_provided'] = df['Salary Estimate'].apply(lambda x: 1 if 'employer provided salary:' in x.lower() else 0)\n",
      "/var/folders/s3/551538vd1w73xsy14_50l2w80000gn/T/ipykernel_39774/2779339176.py:2: SettingWithCopyWarning: \n",
      "A value is trying to be set on a copy of a slice from a DataFrame.\n",
      "Try using .loc[row_indexer,col_indexer] = value instead\n",
      "\n",
      "See the caveats in the documentation: https://pandas.pydata.org/pandas-docs/stable/user_guide/indexing.html#returning-a-view-versus-a-copy\n",
      "  df['per_hour'] = df['Salary Estimate'].apply(lambda x: 1 if 'per hour' in x.lower() else 0)\n"
     ]
    }
   ],
   "source": [
    "df['employer_provided'] = df['Salary Estimate'].apply(lambda x: 1 if 'employer provided salary:' in x.lower() else 0)\n",
    "df['per_hour'] = df['Salary Estimate'].apply(lambda x: 1 if 'per hour' in x.lower() else 0)"
   ],
   "metadata": {
    "collapsed": false,
    "ExecuteTime": {
     "start_time": "2023-04-08T20:31:19.582641Z",
     "end_time": "2023-04-08T20:31:19.619668Z"
    }
   }
  },
  {
   "cell_type": "code",
   "execution_count": 8,
   "outputs": [
    {
     "name": "stderr",
     "output_type": "stream",
     "text": [
      "/var/folders/s3/551538vd1w73xsy14_50l2w80000gn/T/ipykernel_39774/3229515805.py:12: SettingWithCopyWarning: \n",
      "A value is trying to be set on a copy of a slice from a DataFrame.\n",
      "Try using .loc[row_indexer,col_indexer] = value instead\n",
      "\n",
      "See the caveats in the documentation: https://pandas.pydata.org/pandas-docs/stable/user_guide/indexing.html#returning-a-view-versus-a-copy\n",
      "  df['min_salary'] = salary.apply(lambda x: float(x[0]))\n",
      "/var/folders/s3/551538vd1w73xsy14_50l2w80000gn/T/ipykernel_39774/3229515805.py:13: SettingWithCopyWarning: \n",
      "A value is trying to be set on a copy of a slice from a DataFrame.\n",
      "Try using .loc[row_indexer,col_indexer] = value instead\n",
      "\n",
      "See the caveats in the documentation: https://pandas.pydata.org/pandas-docs/stable/user_guide/indexing.html#returning-a-view-versus-a-copy\n",
      "  df['max_salary'] = salary.apply(lambda x: float(x[1]))\n",
      "/var/folders/s3/551538vd1w73xsy14_50l2w80000gn/T/ipykernel_39774/3229515805.py:14: SettingWithCopyWarning: \n",
      "A value is trying to be set on a copy of a slice from a DataFrame.\n",
      "Try using .loc[row_indexer,col_indexer] = value instead\n",
      "\n",
      "See the caveats in the documentation: https://pandas.pydata.org/pandas-docs/stable/user_guide/indexing.html#returning-a-view-versus-a-copy\n",
      "  df['avg_salary'] = (df['min_salary']+df['max_salary'])/2\n"
     ]
    }
   ],
   "source": [
    "salary = df['Salary Estimate'].apply(lambda x: x # cleaning data\n",
    "                            .replace('$','')\n",
    "                            .replace('K','')\n",
    "                            .replace('(Glassdoor est.)','')\n",
    "                            .replace('Employer Provided Salary:','')\n",
    "                            .replace('(Employer est.)','')\n",
    "                            .replace('Per Hour','')\n",
    "                            .split('-')\n",
    "                            )\n",
    "\n",
    "# creating new columns with relevant normalized salary information\n",
    "df['min_salary'] = salary.apply(lambda x: float(x[0]))\n",
    "df['max_salary'] = salary.apply(lambda x: float(x[1]))\n",
    "df['avg_salary'] = (df['min_salary']+df['max_salary'])/2"
   ],
   "metadata": {
    "collapsed": false,
    "ExecuteTime": {
     "start_time": "2023-04-08T20:31:19.591615Z",
     "end_time": "2023-04-08T20:31:19.624895Z"
    }
   }
  },
  {
   "cell_type": "code",
   "execution_count": 9,
   "outputs": [
    {
     "data": {
      "text/plain": "     Unnamed: 0                                          Job Title  \\\n0             0                                     Data Scientist   \n1             1                          Healthcare Data Scientist   \n2             2                                     Data Scientist   \n3             3                                     Data Scientist   \n4             4                                     Data Scientist   \n..          ...                                                ...   \n950         950           Sr Scientist, Immuno-Oncology - Oncology   \n951         951                               Senior Data Engineer   \n952         952  Project Scientist - Auton Lab, Robotics Institute   \n953         953                               Data Science Manager   \n955         955          Research Scientist – Security and Privacy   \n\n                 Salary Estimate  \\\n0     $53K-$91K (Glassdoor est.)   \n1    $63K-$112K (Glassdoor est.)   \n2     $80K-$90K (Glassdoor est.)   \n3     $56K-$97K (Glassdoor est.)   \n4    $86K-$143K (Glassdoor est.)   \n..                           ...   \n950  $58K-$111K (Glassdoor est.)   \n951  $72K-$133K (Glassdoor est.)   \n952   $56K-$91K (Glassdoor est.)   \n953  $95K-$160K (Glassdoor est.)   \n955  $61K-$126K (Glassdoor est.)   \n\n                                       Job Description  Rating  \\\n0    Data Scientist\\nLocation: Albuquerque, NM\\nEdu...     3.8   \n1    What You Will Do:\\n\\nI. General Summary\\n\\nThe...     3.4   \n2    KnowBe4, Inc. is a high growth information sec...     4.8   \n3    *Organization and Job ID**\\nJob ID: 310709\\n\\n...     3.8   \n4    Data Scientist\\nAffinity Solutions / Marketing...     2.9   \n..                                                 ...     ...   \n950  Site Name: USA - Massachusetts - Cambridge\\nPo...     3.9   \n951  THE CHALLENGE\\nEventbrite has a world-class da...     4.4   \n952  The Auton Lab at Carnegie Mellon University is...     2.6   \n953  Data Science ManagerResponsibilities:\\n\\nOvers...     3.2   \n955  Returning Candidate? Log back in to the Career...     3.6   \n\n                                   Company Name         Location  \\\n0                        Tecolote Research\\n3.8  Albuquerque, NM   \n1    University of Maryland Medical System\\n3.4    Linthicum, MD   \n2                                  KnowBe4\\n4.8   Clearwater, FL   \n3                                     PNNL\\n3.8     Richland, WA   \n4                       Affinity Solutions\\n2.9     New York, NY   \n..                                          ...              ...   \n950                                    GSK\\n3.9    Cambridge, MA   \n951                             Eventbrite\\n4.4    Nashville, TN   \n952         Software Engineering Institute\\n2.6   Pittsburgh, PA   \n953                           Numeric, LLC\\n3.2    Allentown, PA   \n955           Riverside Research Institute\\n3.6  Beavercreek, OH   \n\n                  Headquarters                    Size  Founded  \\\n0                   Goleta, CA   501 to 1000 employees     1973   \n1                Baltimore, MD        10000+ employees     1984   \n2               Clearwater, FL   501 to 1000 employees     2010   \n3                 Richland, WA  1001 to 5000 employees     1965   \n4                 New York, NY     51 to 200 employees     1998   \n..                         ...                     ...      ...   \n950  Brentford, United Kingdom        10000+ employees     1830   \n951          San Francisco, CA  1001 to 5000 employees     2006   \n952             Pittsburgh, PA   501 to 1000 employees     1984   \n953            Chadds Ford, PA       1 to 50 employees       -1   \n955              Arlington, VA   501 to 1000 employees     1967   \n\n          Type of ownership                          Industry  \\\n0         Company - Private               Aerospace & Defense   \n1        Other Organization  Health Care Services & Hospitals   \n2         Company - Private                 Security Services   \n3                Government                            Energy   \n4         Company - Private           Advertising & Marketing   \n..                      ...                               ...   \n950        Company - Public         Biotech & Pharmaceuticals   \n951        Company - Public                          Internet   \n952    College / University           Colleges & Universities   \n953       Company - Private            Staffing & Outsourcing   \n955  Nonprofit Organization                  Federal Agencies   \n\n                           Sector                           Revenue  \\\n0             Aerospace & Defense         $50 to $100 million (USD)   \n1                     Health Care            $2 to $5 billion (USD)   \n2               Business Services        $100 to $500 million (USD)   \n3    Oil, Gas, Energy & Utilities  $500 million to $1 billion (USD)   \n4               Business Services          Unknown / Non-Applicable   \n..                            ...                               ...   \n950     Biotech & Pharmaceuticals                $10+ billion (USD)   \n951        Information Technology        $100 to $500 million (USD)   \n952                     Education          Unknown / Non-Applicable   \n953             Business Services           $5 to $10 million (USD)   \n955                    Government         $50 to $100 million (USD)   \n\n                                           Competitors  employer_provided  \\\n0                                                   -1                  0   \n1                                                   -1                  0   \n2                                                   -1                  0   \n3    Oak Ridge National Laboratory, National Renewa...                  0   \n4                 Commerce Signals, Cardlytics, Yodlee                  0   \n..                                                 ...                ...   \n950                         Pfizer, AstraZeneca, Merck                  0   \n951                    See Tickets, TicketWeb, Vendini                  0   \n952                                                 -1                  0   \n953                                                 -1                  0   \n955                                                 -1                  0   \n\n     per_hour  min_salary  max_salary  avg_salary  \n0           0        53.0        91.0        72.0  \n1           0        63.0       112.0        87.5  \n2           0        80.0        90.0        85.0  \n3           0        56.0        97.0        76.5  \n4           0        86.0       143.0       114.5  \n..        ...         ...         ...         ...  \n950         0        58.0       111.0        84.5  \n951         0        72.0       133.0       102.5  \n952         0        56.0        91.0        73.5  \n953         0        95.0       160.0       127.5  \n955         0        61.0       126.0        93.5  \n\n[742 rows x 20 columns]",
      "text/html": "<div>\n<style scoped>\n    .dataframe tbody tr th:only-of-type {\n        vertical-align: middle;\n    }\n\n    .dataframe tbody tr th {\n        vertical-align: top;\n    }\n\n    .dataframe thead th {\n        text-align: right;\n    }\n</style>\n<table border=\"1\" class=\"dataframe\">\n  <thead>\n    <tr style=\"text-align: right;\">\n      <th></th>\n      <th>Unnamed: 0</th>\n      <th>Job Title</th>\n      <th>Salary Estimate</th>\n      <th>Job Description</th>\n      <th>Rating</th>\n      <th>Company Name</th>\n      <th>Location</th>\n      <th>Headquarters</th>\n      <th>Size</th>\n      <th>Founded</th>\n      <th>Type of ownership</th>\n      <th>Industry</th>\n      <th>Sector</th>\n      <th>Revenue</th>\n      <th>Competitors</th>\n      <th>employer_provided</th>\n      <th>per_hour</th>\n      <th>min_salary</th>\n      <th>max_salary</th>\n      <th>avg_salary</th>\n    </tr>\n  </thead>\n  <tbody>\n    <tr>\n      <th>0</th>\n      <td>0</td>\n      <td>Data Scientist</td>\n      <td>$53K-$91K (Glassdoor est.)</td>\n      <td>Data Scientist\\nLocation: Albuquerque, NM\\nEdu...</td>\n      <td>3.8</td>\n      <td>Tecolote Research\\n3.8</td>\n      <td>Albuquerque, NM</td>\n      <td>Goleta, CA</td>\n      <td>501 to 1000 employees</td>\n      <td>1973</td>\n      <td>Company - Private</td>\n      <td>Aerospace &amp; Defense</td>\n      <td>Aerospace &amp; Defense</td>\n      <td>$50 to $100 million (USD)</td>\n      <td>-1</td>\n      <td>0</td>\n      <td>0</td>\n      <td>53.0</td>\n      <td>91.0</td>\n      <td>72.0</td>\n    </tr>\n    <tr>\n      <th>1</th>\n      <td>1</td>\n      <td>Healthcare Data Scientist</td>\n      <td>$63K-$112K (Glassdoor est.)</td>\n      <td>What You Will Do:\\n\\nI. General Summary\\n\\nThe...</td>\n      <td>3.4</td>\n      <td>University of Maryland Medical System\\n3.4</td>\n      <td>Linthicum, MD</td>\n      <td>Baltimore, MD</td>\n      <td>10000+ employees</td>\n      <td>1984</td>\n      <td>Other Organization</td>\n      <td>Health Care Services &amp; Hospitals</td>\n      <td>Health Care</td>\n      <td>$2 to $5 billion (USD)</td>\n      <td>-1</td>\n      <td>0</td>\n      <td>0</td>\n      <td>63.0</td>\n      <td>112.0</td>\n      <td>87.5</td>\n    </tr>\n    <tr>\n      <th>2</th>\n      <td>2</td>\n      <td>Data Scientist</td>\n      <td>$80K-$90K (Glassdoor est.)</td>\n      <td>KnowBe4, Inc. is a high growth information sec...</td>\n      <td>4.8</td>\n      <td>KnowBe4\\n4.8</td>\n      <td>Clearwater, FL</td>\n      <td>Clearwater, FL</td>\n      <td>501 to 1000 employees</td>\n      <td>2010</td>\n      <td>Company - Private</td>\n      <td>Security Services</td>\n      <td>Business Services</td>\n      <td>$100 to $500 million (USD)</td>\n      <td>-1</td>\n      <td>0</td>\n      <td>0</td>\n      <td>80.0</td>\n      <td>90.0</td>\n      <td>85.0</td>\n    </tr>\n    <tr>\n      <th>3</th>\n      <td>3</td>\n      <td>Data Scientist</td>\n      <td>$56K-$97K (Glassdoor est.)</td>\n      <td>*Organization and Job ID**\\nJob ID: 310709\\n\\n...</td>\n      <td>3.8</td>\n      <td>PNNL\\n3.8</td>\n      <td>Richland, WA</td>\n      <td>Richland, WA</td>\n      <td>1001 to 5000 employees</td>\n      <td>1965</td>\n      <td>Government</td>\n      <td>Energy</td>\n      <td>Oil, Gas, Energy &amp; Utilities</td>\n      <td>$500 million to $1 billion (USD)</td>\n      <td>Oak Ridge National Laboratory, National Renewa...</td>\n      <td>0</td>\n      <td>0</td>\n      <td>56.0</td>\n      <td>97.0</td>\n      <td>76.5</td>\n    </tr>\n    <tr>\n      <th>4</th>\n      <td>4</td>\n      <td>Data Scientist</td>\n      <td>$86K-$143K (Glassdoor est.)</td>\n      <td>Data Scientist\\nAffinity Solutions / Marketing...</td>\n      <td>2.9</td>\n      <td>Affinity Solutions\\n2.9</td>\n      <td>New York, NY</td>\n      <td>New York, NY</td>\n      <td>51 to 200 employees</td>\n      <td>1998</td>\n      <td>Company - Private</td>\n      <td>Advertising &amp; Marketing</td>\n      <td>Business Services</td>\n      <td>Unknown / Non-Applicable</td>\n      <td>Commerce Signals, Cardlytics, Yodlee</td>\n      <td>0</td>\n      <td>0</td>\n      <td>86.0</td>\n      <td>143.0</td>\n      <td>114.5</td>\n    </tr>\n    <tr>\n      <th>...</th>\n      <td>...</td>\n      <td>...</td>\n      <td>...</td>\n      <td>...</td>\n      <td>...</td>\n      <td>...</td>\n      <td>...</td>\n      <td>...</td>\n      <td>...</td>\n      <td>...</td>\n      <td>...</td>\n      <td>...</td>\n      <td>...</td>\n      <td>...</td>\n      <td>...</td>\n      <td>...</td>\n      <td>...</td>\n      <td>...</td>\n      <td>...</td>\n      <td>...</td>\n    </tr>\n    <tr>\n      <th>950</th>\n      <td>950</td>\n      <td>Sr Scientist, Immuno-Oncology - Oncology</td>\n      <td>$58K-$111K (Glassdoor est.)</td>\n      <td>Site Name: USA - Massachusetts - Cambridge\\nPo...</td>\n      <td>3.9</td>\n      <td>GSK\\n3.9</td>\n      <td>Cambridge, MA</td>\n      <td>Brentford, United Kingdom</td>\n      <td>10000+ employees</td>\n      <td>1830</td>\n      <td>Company - Public</td>\n      <td>Biotech &amp; Pharmaceuticals</td>\n      <td>Biotech &amp; Pharmaceuticals</td>\n      <td>$10+ billion (USD)</td>\n      <td>Pfizer, AstraZeneca, Merck</td>\n      <td>0</td>\n      <td>0</td>\n      <td>58.0</td>\n      <td>111.0</td>\n      <td>84.5</td>\n    </tr>\n    <tr>\n      <th>951</th>\n      <td>951</td>\n      <td>Senior Data Engineer</td>\n      <td>$72K-$133K (Glassdoor est.)</td>\n      <td>THE CHALLENGE\\nEventbrite has a world-class da...</td>\n      <td>4.4</td>\n      <td>Eventbrite\\n4.4</td>\n      <td>Nashville, TN</td>\n      <td>San Francisco, CA</td>\n      <td>1001 to 5000 employees</td>\n      <td>2006</td>\n      <td>Company - Public</td>\n      <td>Internet</td>\n      <td>Information Technology</td>\n      <td>$100 to $500 million (USD)</td>\n      <td>See Tickets, TicketWeb, Vendini</td>\n      <td>0</td>\n      <td>0</td>\n      <td>72.0</td>\n      <td>133.0</td>\n      <td>102.5</td>\n    </tr>\n    <tr>\n      <th>952</th>\n      <td>952</td>\n      <td>Project Scientist - Auton Lab, Robotics Institute</td>\n      <td>$56K-$91K (Glassdoor est.)</td>\n      <td>The Auton Lab at Carnegie Mellon University is...</td>\n      <td>2.6</td>\n      <td>Software Engineering Institute\\n2.6</td>\n      <td>Pittsburgh, PA</td>\n      <td>Pittsburgh, PA</td>\n      <td>501 to 1000 employees</td>\n      <td>1984</td>\n      <td>College / University</td>\n      <td>Colleges &amp; Universities</td>\n      <td>Education</td>\n      <td>Unknown / Non-Applicable</td>\n      <td>-1</td>\n      <td>0</td>\n      <td>0</td>\n      <td>56.0</td>\n      <td>91.0</td>\n      <td>73.5</td>\n    </tr>\n    <tr>\n      <th>953</th>\n      <td>953</td>\n      <td>Data Science Manager</td>\n      <td>$95K-$160K (Glassdoor est.)</td>\n      <td>Data Science ManagerResponsibilities:\\n\\nOvers...</td>\n      <td>3.2</td>\n      <td>Numeric, LLC\\n3.2</td>\n      <td>Allentown, PA</td>\n      <td>Chadds Ford, PA</td>\n      <td>1 to 50 employees</td>\n      <td>-1</td>\n      <td>Company - Private</td>\n      <td>Staffing &amp; Outsourcing</td>\n      <td>Business Services</td>\n      <td>$5 to $10 million (USD)</td>\n      <td>-1</td>\n      <td>0</td>\n      <td>0</td>\n      <td>95.0</td>\n      <td>160.0</td>\n      <td>127.5</td>\n    </tr>\n    <tr>\n      <th>955</th>\n      <td>955</td>\n      <td>Research Scientist – Security and Privacy</td>\n      <td>$61K-$126K (Glassdoor est.)</td>\n      <td>Returning Candidate? Log back in to the Career...</td>\n      <td>3.6</td>\n      <td>Riverside Research Institute\\n3.6</td>\n      <td>Beavercreek, OH</td>\n      <td>Arlington, VA</td>\n      <td>501 to 1000 employees</td>\n      <td>1967</td>\n      <td>Nonprofit Organization</td>\n      <td>Federal Agencies</td>\n      <td>Government</td>\n      <td>$50 to $100 million (USD)</td>\n      <td>-1</td>\n      <td>0</td>\n      <td>0</td>\n      <td>61.0</td>\n      <td>126.0</td>\n      <td>93.5</td>\n    </tr>\n  </tbody>\n</table>\n<p>742 rows × 20 columns</p>\n</div>"
     },
     "execution_count": 9,
     "metadata": {},
     "output_type": "execute_result"
    }
   ],
   "source": [
    "df"
   ],
   "metadata": {
    "collapsed": false,
    "ExecuteTime": {
     "start_time": "2023-04-08T20:31:19.597068Z",
     "end_time": "2023-04-08T20:31:19.625221Z"
    }
   }
  },
  {
   "cell_type": "markdown",
   "source": [
    "## Company Name"
   ],
   "metadata": {
    "collapsed": false
   }
  },
  {
   "cell_type": "code",
   "execution_count": 14,
   "outputs": [
    {
     "name": "stderr",
     "output_type": "stream",
     "text": [
      "/var/folders/s3/551538vd1w73xsy14_50l2w80000gn/T/ipykernel_39774/868228979.py:3: SettingWithCopyWarning: \n",
      "A value is trying to be set on a copy of a slice from a DataFrame.\n",
      "Try using .loc[row_indexer,col_indexer] = value instead\n",
      "\n",
      "See the caveats in the documentation: https://pandas.pydata.org/pandas-docs/stable/user_guide/indexing.html#returning-a-view-versus-a-copy\n",
      "  df['company'] = df.apply(lambda x: x['Company Name'] if x['Rating']<0 else x['Company Name'][:-3].strip(), axis=1)\n"
     ]
    }
   ],
   "source": [
    "#df['company'] = df['Company Name'].apply(lambda x: x[:-3].strip() if '.' in x[-3:] else x)\n",
    "\n",
    "df['company'] = df.apply(lambda x: x['Company Name'] if x['Rating']<0 else x['Company Name'][:-3].strip(), axis=1)"
   ],
   "metadata": {
    "collapsed": false,
    "ExecuteTime": {
     "start_time": "2023-04-08T20:40:22.549615Z",
     "end_time": "2023-04-08T20:40:22.561536Z"
    }
   }
  },
  {
   "cell_type": "markdown",
   "source": [
    "## State"
   ],
   "metadata": {
    "collapsed": false
   }
  },
  {
   "cell_type": "code",
   "execution_count": 15,
   "outputs": [
    {
     "name": "stderr",
     "output_type": "stream",
     "text": [
      "/var/folders/s3/551538vd1w73xsy14_50l2w80000gn/T/ipykernel_39774/484761945.py:1: SettingWithCopyWarning: \n",
      "A value is trying to be set on a copy of a slice from a DataFrame.\n",
      "Try using .loc[row_indexer,col_indexer] = value instead\n",
      "\n",
      "See the caveats in the documentation: https://pandas.pydata.org/pandas-docs/stable/user_guide/indexing.html#returning-a-view-versus-a-copy\n",
      "  df['state'] = df['Location'].apply(lambda x: x.split(',')[1].strip())\n"
     ]
    }
   ],
   "source": [
    "df['state'] = df['Location'].apply(lambda x: x.split(',')[1].strip())"
   ],
   "metadata": {
    "collapsed": false,
    "ExecuteTime": {
     "start_time": "2023-04-08T20:43:11.996101Z",
     "end_time": "2023-04-08T20:43:12.017306Z"
    }
   }
  },
  {
   "cell_type": "code",
   "execution_count": 16,
   "outputs": [
    {
     "data": {
      "text/plain": "CA             151\nMA             103\nNY              72\nVA              41\nIL              40\nMD              35\nPA              33\nTX              28\nWA              21\nNC              21\nNJ              17\nFL              16\nOH              14\nTN              13\nDC              11\nCO              11\nWI              10\nIN              10\nUT              10\nAZ               9\nMO               9\nAL               8\nGA               6\nKY               6\nDE               6\nMI               6\nCT               5\nIA               5\nLA               4\nOR               4\nNE               4\nNM               3\nKS               3\nID               2\nMN               2\nLos Angeles      1\nRI               1\nSC               1\nName: state, dtype: int64"
     },
     "execution_count": 16,
     "metadata": {},
     "output_type": "execute_result"
    }
   ],
   "source": [
    "df['state'].value_counts()"
   ],
   "metadata": {
    "collapsed": false,
    "ExecuteTime": {
     "start_time": "2023-04-08T20:46:29.144656Z",
     "end_time": "2023-04-08T20:46:29.148540Z"
    }
   }
  },
  {
   "cell_type": "markdown",
   "source": [],
   "metadata": {
    "collapsed": false
   }
  },
  {
   "cell_type": "code",
   "execution_count": 17,
   "outputs": [
    {
     "name": "stderr",
     "output_type": "stream",
     "text": [
      "/var/folders/s3/551538vd1w73xsy14_50l2w80000gn/T/ipykernel_39774/896603976.py:1: SettingWithCopyWarning: \n",
      "A value is trying to be set on a copy of a slice from a DataFrame.\n",
      "Try using .loc[row_indexer,col_indexer] = value instead\n",
      "\n",
      "See the caveats in the documentation: https://pandas.pydata.org/pandas-docs/stable/user_guide/indexing.html#returning-a-view-versus-a-copy\n",
      "  df['state'] = df['state'].apply(lambda x: 'CA' if x=='Los Angeles' else x)\n"
     ]
    }
   ],
   "source": [
    "df['state'] = df['state'].apply(lambda x: 'CA' if x=='Los Angeles' else x)"
   ],
   "metadata": {
    "collapsed": false,
    "ExecuteTime": {
     "start_time": "2023-04-08T20:49:12.854796Z",
     "end_time": "2023-04-08T20:49:12.869596Z"
    }
   }
  },
  {
   "cell_type": "code",
   "execution_count": 18,
   "outputs": [
    {
     "data": {
      "text/plain": "CA    152\nMA    103\nNY     72\nVA     41\nIL     40\nMD     35\nPA     33\nTX     28\nNC     21\nWA     21\nNJ     17\nFL     16\nOH     14\nTN     13\nDC     11\nCO     11\nWI     10\nUT     10\nIN     10\nAZ      9\nMO      9\nAL      8\nGA      6\nDE      6\nKY      6\nMI      6\nCT      5\nIA      5\nLA      4\nOR      4\nNE      4\nNM      3\nKS      3\nID      2\nMN      2\nRI      1\nSC      1\nName: state, dtype: int64"
     },
     "execution_count": 18,
     "metadata": {},
     "output_type": "execute_result"
    }
   ],
   "source": [
    "df['state'].value_counts()"
   ],
   "metadata": {
    "collapsed": false,
    "ExecuteTime": {
     "start_time": "2023-04-08T20:49:21.277517Z",
     "end_time": "2023-04-08T20:49:21.303911Z"
    }
   }
  },
  {
   "cell_type": "code",
   "execution_count": 20,
   "outputs": [
    {
     "name": "stderr",
     "output_type": "stream",
     "text": [
      "/var/folders/s3/551538vd1w73xsy14_50l2w80000gn/T/ipykernel_39774/3368722852.py:1: SettingWithCopyWarning: \n",
      "A value is trying to be set on a copy of a slice from a DataFrame.\n",
      "Try using .loc[row_indexer,col_indexer] = value instead\n",
      "\n",
      "See the caveats in the documentation: https://pandas.pydata.org/pandas-docs/stable/user_guide/indexing.html#returning-a-view-versus-a-copy\n",
      "  df['same state'] = df.apply(lambda x: 1 if x['Location'] == x['Headquarters'] else 0, axis=1)\n"
     ]
    }
   ],
   "source": [
    "df['same state'] = df.apply(lambda x: 1 if x['Location'] == x['Headquarters'] else 0, axis=1)"
   ],
   "metadata": {
    "collapsed": false,
    "ExecuteTime": {
     "start_time": "2023-04-08T20:52:11.679379Z",
     "end_time": "2023-04-08T20:52:11.683443Z"
    }
   }
  },
  {
   "cell_type": "markdown",
   "source": [
    "## Company Age"
   ],
   "metadata": {
    "collapsed": false
   }
  },
  {
   "cell_type": "code",
   "execution_count": 26,
   "outputs": [
    {
     "data": {
      "text/plain": "count     742.000000\nmean     1837.154987\nstd       497.183763\nmin        -1.000000\n25%      1939.000000\n50%      1988.000000\n75%      2007.000000\nmax      2019.000000\nName: Founded, dtype: float64"
     },
     "execution_count": 26,
     "metadata": {},
     "output_type": "execute_result"
    }
   ],
   "source": [
    "df['Founded'].describe()"
   ],
   "metadata": {
    "collapsed": false,
    "ExecuteTime": {
     "start_time": "2023-04-08T21:02:54.349709Z",
     "end_time": "2023-04-08T21:02:54.357540Z"
    }
   }
  },
  {
   "cell_type": "code",
   "execution_count": 27,
   "outputs": [
    {
     "name": "stderr",
     "output_type": "stream",
     "text": [
      "/var/folders/s3/551538vd1w73xsy14_50l2w80000gn/T/ipykernel_39774/4255760720.py:1: SettingWithCopyWarning: \n",
      "A value is trying to be set on a copy of a slice from a DataFrame.\n",
      "Try using .loc[row_indexer,col_indexer] = value instead\n",
      "\n",
      "See the caveats in the documentation: https://pandas.pydata.org/pandas-docs/stable/user_guide/indexing.html#returning-a-view-versus-a-copy\n",
      "  df['company_age'] = df['Founded'].apply(lambda x: -1 if x<0 else 2023 - x )\n"
     ]
    }
   ],
   "source": [
    "df['company_age'] = df['Founded'].apply(lambda x: -1 if x<0 else 2023 - x )"
   ],
   "metadata": {
    "collapsed": false,
    "ExecuteTime": {
     "start_time": "2023-04-08T21:04:40.357878Z",
     "end_time": "2023-04-08T21:04:40.365684Z"
    }
   }
  },
  {
   "cell_type": "code",
   "execution_count": 28,
   "outputs": [
    {
     "data": {
      "text/plain": "     Unnamed: 0                                          Job Title  \\\n0             0                                     Data Scientist   \n1             1                          Healthcare Data Scientist   \n2             2                                     Data Scientist   \n3             3                                     Data Scientist   \n4             4                                     Data Scientist   \n..          ...                                                ...   \n950         950           Sr Scientist, Immuno-Oncology - Oncology   \n951         951                               Senior Data Engineer   \n952         952  Project Scientist - Auton Lab, Robotics Institute   \n953         953                               Data Science Manager   \n955         955          Research Scientist – Security and Privacy   \n\n                 Salary Estimate  \\\n0     $53K-$91K (Glassdoor est.)   \n1    $63K-$112K (Glassdoor est.)   \n2     $80K-$90K (Glassdoor est.)   \n3     $56K-$97K (Glassdoor est.)   \n4    $86K-$143K (Glassdoor est.)   \n..                           ...   \n950  $58K-$111K (Glassdoor est.)   \n951  $72K-$133K (Glassdoor est.)   \n952   $56K-$91K (Glassdoor est.)   \n953  $95K-$160K (Glassdoor est.)   \n955  $61K-$126K (Glassdoor est.)   \n\n                                       Job Description  Rating  \\\n0    Data Scientist\\nLocation: Albuquerque, NM\\nEdu...     3.8   \n1    What You Will Do:\\n\\nI. General Summary\\n\\nThe...     3.4   \n2    KnowBe4, Inc. is a high growth information sec...     4.8   \n3    *Organization and Job ID**\\nJob ID: 310709\\n\\n...     3.8   \n4    Data Scientist\\nAffinity Solutions / Marketing...     2.9   \n..                                                 ...     ...   \n950  Site Name: USA - Massachusetts - Cambridge\\nPo...     3.9   \n951  THE CHALLENGE\\nEventbrite has a world-class da...     4.4   \n952  The Auton Lab at Carnegie Mellon University is...     2.6   \n953  Data Science ManagerResponsibilities:\\n\\nOvers...     3.2   \n955  Returning Candidate? Log back in to the Career...     3.6   \n\n                                   Company Name         Location  \\\n0                        Tecolote Research\\n3.8  Albuquerque, NM   \n1    University of Maryland Medical System\\n3.4    Linthicum, MD   \n2                                  KnowBe4\\n4.8   Clearwater, FL   \n3                                     PNNL\\n3.8     Richland, WA   \n4                       Affinity Solutions\\n2.9     New York, NY   \n..                                          ...              ...   \n950                                    GSK\\n3.9    Cambridge, MA   \n951                             Eventbrite\\n4.4    Nashville, TN   \n952         Software Engineering Institute\\n2.6   Pittsburgh, PA   \n953                           Numeric, LLC\\n3.2    Allentown, PA   \n955           Riverside Research Institute\\n3.6  Beavercreek, OH   \n\n                  Headquarters                    Size  Founded  ...  \\\n0                   Goleta, CA   501 to 1000 employees     1973  ...   \n1                Baltimore, MD        10000+ employees     1984  ...   \n2               Clearwater, FL   501 to 1000 employees     2010  ...   \n3                 Richland, WA  1001 to 5000 employees     1965  ...   \n4                 New York, NY     51 to 200 employees     1998  ...   \n..                         ...                     ...      ...  ...   \n950  Brentford, United Kingdom        10000+ employees     1830  ...   \n951          San Francisco, CA  1001 to 5000 employees     2006  ...   \n952             Pittsburgh, PA   501 to 1000 employees     1984  ...   \n953            Chadds Ford, PA       1 to 50 employees       -1  ...   \n955              Arlington, VA   501 to 1000 employees     1967  ...   \n\n                                           Competitors employer_provided  \\\n0                                                   -1                 0   \n1                                                   -1                 0   \n2                                                   -1                 0   \n3    Oak Ridge National Laboratory, National Renewa...                 0   \n4                 Commerce Signals, Cardlytics, Yodlee                 0   \n..                                                 ...               ...   \n950                         Pfizer, AstraZeneca, Merck                 0   \n951                    See Tickets, TicketWeb, Vendini                 0   \n952                                                 -1                 0   \n953                                                 -1                 0   \n955                                                 -1                 0   \n\n    per_hour min_salary max_salary  avg_salary  \\\n0          0       53.0       91.0        72.0   \n1          0       63.0      112.0        87.5   \n2          0       80.0       90.0        85.0   \n3          0       56.0       97.0        76.5   \n4          0       86.0      143.0       114.5   \n..       ...        ...        ...         ...   \n950        0       58.0      111.0        84.5   \n951        0       72.0      133.0       102.5   \n952        0       56.0       91.0        73.5   \n953        0       95.0      160.0       127.5   \n955        0       61.0      126.0        93.5   \n\n                                   company  state  same state  company_age  \n0                        Tecolote Research     NM           0           50  \n1    University of Maryland Medical System     MD           0           39  \n2                                  KnowBe4     FL           1           13  \n3                                     PNNL     WA           1           58  \n4                       Affinity Solutions     NY           1           25  \n..                                     ...    ...         ...          ...  \n950                                    GSK     MA           0          193  \n951                             Eventbrite     TN           0           17  \n952         Software Engineering Institute     PA           1           39  \n953                           Numeric, LLC     PA           0           -1  \n955           Riverside Research Institute     OH           0           56  \n\n[742 rows x 24 columns]",
      "text/html": "<div>\n<style scoped>\n    .dataframe tbody tr th:only-of-type {\n        vertical-align: middle;\n    }\n\n    .dataframe tbody tr th {\n        vertical-align: top;\n    }\n\n    .dataframe thead th {\n        text-align: right;\n    }\n</style>\n<table border=\"1\" class=\"dataframe\">\n  <thead>\n    <tr style=\"text-align: right;\">\n      <th></th>\n      <th>Unnamed: 0</th>\n      <th>Job Title</th>\n      <th>Salary Estimate</th>\n      <th>Job Description</th>\n      <th>Rating</th>\n      <th>Company Name</th>\n      <th>Location</th>\n      <th>Headquarters</th>\n      <th>Size</th>\n      <th>Founded</th>\n      <th>...</th>\n      <th>Competitors</th>\n      <th>employer_provided</th>\n      <th>per_hour</th>\n      <th>min_salary</th>\n      <th>max_salary</th>\n      <th>avg_salary</th>\n      <th>company</th>\n      <th>state</th>\n      <th>same state</th>\n      <th>company_age</th>\n    </tr>\n  </thead>\n  <tbody>\n    <tr>\n      <th>0</th>\n      <td>0</td>\n      <td>Data Scientist</td>\n      <td>$53K-$91K (Glassdoor est.)</td>\n      <td>Data Scientist\\nLocation: Albuquerque, NM\\nEdu...</td>\n      <td>3.8</td>\n      <td>Tecolote Research\\n3.8</td>\n      <td>Albuquerque, NM</td>\n      <td>Goleta, CA</td>\n      <td>501 to 1000 employees</td>\n      <td>1973</td>\n      <td>...</td>\n      <td>-1</td>\n      <td>0</td>\n      <td>0</td>\n      <td>53.0</td>\n      <td>91.0</td>\n      <td>72.0</td>\n      <td>Tecolote Research</td>\n      <td>NM</td>\n      <td>0</td>\n      <td>50</td>\n    </tr>\n    <tr>\n      <th>1</th>\n      <td>1</td>\n      <td>Healthcare Data Scientist</td>\n      <td>$63K-$112K (Glassdoor est.)</td>\n      <td>What You Will Do:\\n\\nI. General Summary\\n\\nThe...</td>\n      <td>3.4</td>\n      <td>University of Maryland Medical System\\n3.4</td>\n      <td>Linthicum, MD</td>\n      <td>Baltimore, MD</td>\n      <td>10000+ employees</td>\n      <td>1984</td>\n      <td>...</td>\n      <td>-1</td>\n      <td>0</td>\n      <td>0</td>\n      <td>63.0</td>\n      <td>112.0</td>\n      <td>87.5</td>\n      <td>University of Maryland Medical System</td>\n      <td>MD</td>\n      <td>0</td>\n      <td>39</td>\n    </tr>\n    <tr>\n      <th>2</th>\n      <td>2</td>\n      <td>Data Scientist</td>\n      <td>$80K-$90K (Glassdoor est.)</td>\n      <td>KnowBe4, Inc. is a high growth information sec...</td>\n      <td>4.8</td>\n      <td>KnowBe4\\n4.8</td>\n      <td>Clearwater, FL</td>\n      <td>Clearwater, FL</td>\n      <td>501 to 1000 employees</td>\n      <td>2010</td>\n      <td>...</td>\n      <td>-1</td>\n      <td>0</td>\n      <td>0</td>\n      <td>80.0</td>\n      <td>90.0</td>\n      <td>85.0</td>\n      <td>KnowBe4</td>\n      <td>FL</td>\n      <td>1</td>\n      <td>13</td>\n    </tr>\n    <tr>\n      <th>3</th>\n      <td>3</td>\n      <td>Data Scientist</td>\n      <td>$56K-$97K (Glassdoor est.)</td>\n      <td>*Organization and Job ID**\\nJob ID: 310709\\n\\n...</td>\n      <td>3.8</td>\n      <td>PNNL\\n3.8</td>\n      <td>Richland, WA</td>\n      <td>Richland, WA</td>\n      <td>1001 to 5000 employees</td>\n      <td>1965</td>\n      <td>...</td>\n      <td>Oak Ridge National Laboratory, National Renewa...</td>\n      <td>0</td>\n      <td>0</td>\n      <td>56.0</td>\n      <td>97.0</td>\n      <td>76.5</td>\n      <td>PNNL</td>\n      <td>WA</td>\n      <td>1</td>\n      <td>58</td>\n    </tr>\n    <tr>\n      <th>4</th>\n      <td>4</td>\n      <td>Data Scientist</td>\n      <td>$86K-$143K (Glassdoor est.)</td>\n      <td>Data Scientist\\nAffinity Solutions / Marketing...</td>\n      <td>2.9</td>\n      <td>Affinity Solutions\\n2.9</td>\n      <td>New York, NY</td>\n      <td>New York, NY</td>\n      <td>51 to 200 employees</td>\n      <td>1998</td>\n      <td>...</td>\n      <td>Commerce Signals, Cardlytics, Yodlee</td>\n      <td>0</td>\n      <td>0</td>\n      <td>86.0</td>\n      <td>143.0</td>\n      <td>114.5</td>\n      <td>Affinity Solutions</td>\n      <td>NY</td>\n      <td>1</td>\n      <td>25</td>\n    </tr>\n    <tr>\n      <th>...</th>\n      <td>...</td>\n      <td>...</td>\n      <td>...</td>\n      <td>...</td>\n      <td>...</td>\n      <td>...</td>\n      <td>...</td>\n      <td>...</td>\n      <td>...</td>\n      <td>...</td>\n      <td>...</td>\n      <td>...</td>\n      <td>...</td>\n      <td>...</td>\n      <td>...</td>\n      <td>...</td>\n      <td>...</td>\n      <td>...</td>\n      <td>...</td>\n      <td>...</td>\n      <td>...</td>\n    </tr>\n    <tr>\n      <th>950</th>\n      <td>950</td>\n      <td>Sr Scientist, Immuno-Oncology - Oncology</td>\n      <td>$58K-$111K (Glassdoor est.)</td>\n      <td>Site Name: USA - Massachusetts - Cambridge\\nPo...</td>\n      <td>3.9</td>\n      <td>GSK\\n3.9</td>\n      <td>Cambridge, MA</td>\n      <td>Brentford, United Kingdom</td>\n      <td>10000+ employees</td>\n      <td>1830</td>\n      <td>...</td>\n      <td>Pfizer, AstraZeneca, Merck</td>\n      <td>0</td>\n      <td>0</td>\n      <td>58.0</td>\n      <td>111.0</td>\n      <td>84.5</td>\n      <td>GSK</td>\n      <td>MA</td>\n      <td>0</td>\n      <td>193</td>\n    </tr>\n    <tr>\n      <th>951</th>\n      <td>951</td>\n      <td>Senior Data Engineer</td>\n      <td>$72K-$133K (Glassdoor est.)</td>\n      <td>THE CHALLENGE\\nEventbrite has a world-class da...</td>\n      <td>4.4</td>\n      <td>Eventbrite\\n4.4</td>\n      <td>Nashville, TN</td>\n      <td>San Francisco, CA</td>\n      <td>1001 to 5000 employees</td>\n      <td>2006</td>\n      <td>...</td>\n      <td>See Tickets, TicketWeb, Vendini</td>\n      <td>0</td>\n      <td>0</td>\n      <td>72.0</td>\n      <td>133.0</td>\n      <td>102.5</td>\n      <td>Eventbrite</td>\n      <td>TN</td>\n      <td>0</td>\n      <td>17</td>\n    </tr>\n    <tr>\n      <th>952</th>\n      <td>952</td>\n      <td>Project Scientist - Auton Lab, Robotics Institute</td>\n      <td>$56K-$91K (Glassdoor est.)</td>\n      <td>The Auton Lab at Carnegie Mellon University is...</td>\n      <td>2.6</td>\n      <td>Software Engineering Institute\\n2.6</td>\n      <td>Pittsburgh, PA</td>\n      <td>Pittsburgh, PA</td>\n      <td>501 to 1000 employees</td>\n      <td>1984</td>\n      <td>...</td>\n      <td>-1</td>\n      <td>0</td>\n      <td>0</td>\n      <td>56.0</td>\n      <td>91.0</td>\n      <td>73.5</td>\n      <td>Software Engineering Institute</td>\n      <td>PA</td>\n      <td>1</td>\n      <td>39</td>\n    </tr>\n    <tr>\n      <th>953</th>\n      <td>953</td>\n      <td>Data Science Manager</td>\n      <td>$95K-$160K (Glassdoor est.)</td>\n      <td>Data Science ManagerResponsibilities:\\n\\nOvers...</td>\n      <td>3.2</td>\n      <td>Numeric, LLC\\n3.2</td>\n      <td>Allentown, PA</td>\n      <td>Chadds Ford, PA</td>\n      <td>1 to 50 employees</td>\n      <td>-1</td>\n      <td>...</td>\n      <td>-1</td>\n      <td>0</td>\n      <td>0</td>\n      <td>95.0</td>\n      <td>160.0</td>\n      <td>127.5</td>\n      <td>Numeric, LLC</td>\n      <td>PA</td>\n      <td>0</td>\n      <td>-1</td>\n    </tr>\n    <tr>\n      <th>955</th>\n      <td>955</td>\n      <td>Research Scientist – Security and Privacy</td>\n      <td>$61K-$126K (Glassdoor est.)</td>\n      <td>Returning Candidate? Log back in to the Career...</td>\n      <td>3.6</td>\n      <td>Riverside Research Institute\\n3.6</td>\n      <td>Beavercreek, OH</td>\n      <td>Arlington, VA</td>\n      <td>501 to 1000 employees</td>\n      <td>1967</td>\n      <td>...</td>\n      <td>-1</td>\n      <td>0</td>\n      <td>0</td>\n      <td>61.0</td>\n      <td>126.0</td>\n      <td>93.5</td>\n      <td>Riverside Research Institute</td>\n      <td>OH</td>\n      <td>0</td>\n      <td>56</td>\n    </tr>\n  </tbody>\n</table>\n<p>742 rows × 24 columns</p>\n</div>"
     },
     "execution_count": 28,
     "metadata": {},
     "output_type": "execute_result"
    }
   ],
   "source": [
    "df"
   ],
   "metadata": {
    "collapsed": false,
    "ExecuteTime": {
     "start_time": "2023-04-08T21:04:41.440028Z",
     "end_time": "2023-04-08T21:04:41.443981Z"
    }
   }
  },
  {
   "cell_type": "markdown",
   "source": [
    "## Job Description"
   ],
   "metadata": {
    "collapsed": false
   }
  },
  {
   "cell_type": "code",
   "execution_count": 32,
   "outputs": [
    {
     "name": "stderr",
     "output_type": "stream",
     "text": [
      "/var/folders/s3/551538vd1w73xsy14_50l2w80000gn/T/ipykernel_39774/1020329743.py:1: SettingWithCopyWarning: \n",
      "A value is trying to be set on a copy of a slice from a DataFrame.\n",
      "Try using .loc[row_indexer,col_indexer] = value instead\n",
      "\n",
      "See the caveats in the documentation: https://pandas.pydata.org/pandas-docs/stable/user_guide/indexing.html#returning-a-view-versus-a-copy\n",
      "  df['python'] = df['Job Description'].apply(lambda x: 1 if 'python' in x.lower() else 0)\n"
     ]
    },
    {
     "data": {
      "text/plain": "1    392\n0    350\nName: python, dtype: int64"
     },
     "execution_count": 32,
     "metadata": {},
     "output_type": "execute_result"
    }
   ],
   "source": [
    "df['python'] = df['Job Description'].apply(lambda x: 1 if 'python' in x.lower() else 0) # job description with python\n",
    "df['python'].value_counts()"
   ],
   "metadata": {
    "collapsed": false,
    "ExecuteTime": {
     "start_time": "2023-04-08T21:09:20.273812Z",
     "end_time": "2023-04-08T21:09:20.283384Z"
    }
   }
  },
  {
   "cell_type": "code",
   "execution_count": 33,
   "outputs": [
    {
     "name": "stderr",
     "output_type": "stream",
     "text": [
      "/var/folders/s3/551538vd1w73xsy14_50l2w80000gn/T/ipykernel_39774/1227548125.py:1: SettingWithCopyWarning: \n",
      "A value is trying to be set on a copy of a slice from a DataFrame.\n",
      "Try using .loc[row_indexer,col_indexer] = value instead\n",
      "\n",
      "See the caveats in the documentation: https://pandas.pydata.org/pandas-docs/stable/user_guide/indexing.html#returning-a-view-versus-a-copy\n",
      "  df['sql'] = df['Job Description'].apply(lambda x: 1 if 'sql' in x.lower() else 0) # job description with sql\n"
     ]
    },
    {
     "data": {
      "text/plain": "1    380\n0    362\nName: sql, dtype: int64"
     },
     "execution_count": 33,
     "metadata": {},
     "output_type": "execute_result"
    }
   ],
   "source": [
    "df['sql'] = df['Job Description'].apply(lambda x: 1 if 'sql' in x.lower() else 0) # job description with sql\n",
    "df['sql'].value_counts()"
   ],
   "metadata": {
    "collapsed": false,
    "ExecuteTime": {
     "start_time": "2023-04-08T21:11:11.309036Z",
     "end_time": "2023-04-08T21:11:11.317766Z"
    }
   }
  },
  {
   "cell_type": "code",
   "execution_count": 34,
   "outputs": [
    {
     "name": "stderr",
     "output_type": "stream",
     "text": [
      "/var/folders/s3/551538vd1w73xsy14_50l2w80000gn/T/ipykernel_39774/3274834561.py:1: SettingWithCopyWarning: \n",
      "A value is trying to be set on a copy of a slice from a DataFrame.\n",
      "Try using .loc[row_indexer,col_indexer] = value instead\n",
      "\n",
      "See the caveats in the documentation: https://pandas.pydata.org/pandas-docs/stable/user_guide/indexing.html#returning-a-view-versus-a-copy\n",
      "  df['spark'] = df['Job Description'].apply(lambda x: 1 if 'sql' in x.lower() else 0) # job description with spark\n"
     ]
    },
    {
     "data": {
      "text/plain": "1    380\n0    362\nName: spark, dtype: int64"
     },
     "execution_count": 34,
     "metadata": {},
     "output_type": "execute_result"
    }
   ],
   "source": [
    "df['spark'] = df['Job Description'].apply(lambda x: 1 if 'sql' in x.lower() else 0) # job description with spark\n",
    "df['spark'].value_counts()"
   ],
   "metadata": {
    "collapsed": false,
    "ExecuteTime": {
     "start_time": "2023-04-08T21:11:32.093357Z",
     "end_time": "2023-04-08T21:11:32.119075Z"
    }
   }
  },
  {
   "cell_type": "code",
   "execution_count": 35,
   "outputs": [
    {
     "name": "stderr",
     "output_type": "stream",
     "text": [
      "/var/folders/s3/551538vd1w73xsy14_50l2w80000gn/T/ipykernel_39774/1402285899.py:1: SettingWithCopyWarning: \n",
      "A value is trying to be set on a copy of a slice from a DataFrame.\n",
      "Try using .loc[row_indexer,col_indexer] = value instead\n",
      "\n",
      "See the caveats in the documentation: https://pandas.pydata.org/pandas-docs/stable/user_guide/indexing.html#returning-a-view-versus-a-copy\n",
      "  df['aws'] = df['Job Description'].apply(lambda x: 1 if 'aws' in x.lower() else 0) # job description with aws\n"
     ]
    },
    {
     "data": {
      "text/plain": "0    566\n1    176\nName: aws, dtype: int64"
     },
     "execution_count": 35,
     "metadata": {},
     "output_type": "execute_result"
    }
   ],
   "source": [
    "df['aws'] = df['Job Description'].apply(lambda x: 1 if 'aws' in x.lower() else 0) # job description with aws\n",
    "df['aws'].value_counts()"
   ],
   "metadata": {
    "collapsed": false,
    "ExecuteTime": {
     "start_time": "2023-04-08T21:11:57.864366Z",
     "end_time": "2023-04-08T21:11:57.886431Z"
    }
   }
  },
  {
   "cell_type": "code",
   "execution_count": 36,
   "outputs": [
    {
     "name": "stderr",
     "output_type": "stream",
     "text": [
      "/var/folders/s3/551538vd1w73xsy14_50l2w80000gn/T/ipykernel_39774/1028036203.py:1: SettingWithCopyWarning: \n",
      "A value is trying to be set on a copy of a slice from a DataFrame.\n",
      "Try using .loc[row_indexer,col_indexer] = value instead\n",
      "\n",
      "See the caveats in the documentation: https://pandas.pydata.org/pandas-docs/stable/user_guide/indexing.html#returning-a-view-versus-a-copy\n",
      "  df['excel'] = df['Job Description'].apply(lambda x: 1 if 'excel' in x.lower() else 0) # job description with excel\n"
     ]
    },
    {
     "data": {
      "text/plain": "1    388\n0    354\nName: excel, dtype: int64"
     },
     "execution_count": 36,
     "metadata": {},
     "output_type": "execute_result"
    }
   ],
   "source": [
    "df['excel'] = df['Job Description'].apply(lambda x: 1 if 'excel' in x.lower() else 0) # job description with excel\n",
    "df['excel'].value_counts()"
   ],
   "metadata": {
    "collapsed": false,
    "ExecuteTime": {
     "start_time": "2023-04-08T21:15:34.645154Z",
     "end_time": "2023-04-08T21:15:34.667945Z"
    }
   }
  },
  {
   "cell_type": "markdown",
   "source": [
    "## Finishing Cleaning and Saving"
   ],
   "metadata": {
    "collapsed": false
   }
  },
  {
   "cell_type": "code",
   "execution_count": 40,
   "outputs": [
    {
     "name": "stderr",
     "output_type": "stream",
     "text": [
      "/var/folders/s3/551538vd1w73xsy14_50l2w80000gn/T/ipykernel_39774/3469533351.py:1: SettingWithCopyWarning: \n",
      "A value is trying to be set on a copy of a slice from a DataFrame\n",
      "\n",
      "See the caveats in the documentation: https://pandas.pydata.org/pandas-docs/stable/user_guide/indexing.html#returning-a-view-versus-a-copy\n",
      "  df.drop('Unnamed: 0', axis=1, inplace=True)\n"
     ]
    },
    {
     "data": {
      "text/plain": "                                             Job Title  \\\n0                                       Data Scientist   \n1                            Healthcare Data Scientist   \n2                                       Data Scientist   \n3                                       Data Scientist   \n4                                       Data Scientist   \n..                                                 ...   \n950           Sr Scientist, Immuno-Oncology - Oncology   \n951                               Senior Data Engineer   \n952  Project Scientist - Auton Lab, Robotics Institute   \n953                               Data Science Manager   \n955          Research Scientist – Security and Privacy   \n\n                 Salary Estimate  \\\n0     $53K-$91K (Glassdoor est.)   \n1    $63K-$112K (Glassdoor est.)   \n2     $80K-$90K (Glassdoor est.)   \n3     $56K-$97K (Glassdoor est.)   \n4    $86K-$143K (Glassdoor est.)   \n..                           ...   \n950  $58K-$111K (Glassdoor est.)   \n951  $72K-$133K (Glassdoor est.)   \n952   $56K-$91K (Glassdoor est.)   \n953  $95K-$160K (Glassdoor est.)   \n955  $61K-$126K (Glassdoor est.)   \n\n                                       Job Description  Rating  \\\n0    Data Scientist\\nLocation: Albuquerque, NM\\nEdu...     3.8   \n1    What You Will Do:\\n\\nI. General Summary\\n\\nThe...     3.4   \n2    KnowBe4, Inc. is a high growth information sec...     4.8   \n3    *Organization and Job ID**\\nJob ID: 310709\\n\\n...     3.8   \n4    Data Scientist\\nAffinity Solutions / Marketing...     2.9   \n..                                                 ...     ...   \n950  Site Name: USA - Massachusetts - Cambridge\\nPo...     3.9   \n951  THE CHALLENGE\\nEventbrite has a world-class da...     4.4   \n952  The Auton Lab at Carnegie Mellon University is...     2.6   \n953  Data Science ManagerResponsibilities:\\n\\nOvers...     3.2   \n955  Returning Candidate? Log back in to the Career...     3.6   \n\n                                   Company Name         Location  \\\n0                        Tecolote Research\\n3.8  Albuquerque, NM   \n1    University of Maryland Medical System\\n3.4    Linthicum, MD   \n2                                  KnowBe4\\n4.8   Clearwater, FL   \n3                                     PNNL\\n3.8     Richland, WA   \n4                       Affinity Solutions\\n2.9     New York, NY   \n..                                          ...              ...   \n950                                    GSK\\n3.9    Cambridge, MA   \n951                             Eventbrite\\n4.4    Nashville, TN   \n952         Software Engineering Institute\\n2.6   Pittsburgh, PA   \n953                           Numeric, LLC\\n3.2    Allentown, PA   \n955           Riverside Research Institute\\n3.6  Beavercreek, OH   \n\n                  Headquarters                    Size  Founded  \\\n0                   Goleta, CA   501 to 1000 employees     1973   \n1                Baltimore, MD        10000+ employees     1984   \n2               Clearwater, FL   501 to 1000 employees     2010   \n3                 Richland, WA  1001 to 5000 employees     1965   \n4                 New York, NY     51 to 200 employees     1998   \n..                         ...                     ...      ...   \n950  Brentford, United Kingdom        10000+ employees     1830   \n951          San Francisco, CA  1001 to 5000 employees     2006   \n952             Pittsburgh, PA   501 to 1000 employees     1984   \n953            Chadds Ford, PA       1 to 50 employees       -1   \n955              Arlington, VA   501 to 1000 employees     1967   \n\n          Type of ownership  ... avg_salary  \\\n0         Company - Private  ...       72.0   \n1        Other Organization  ...       87.5   \n2         Company - Private  ...       85.0   \n3                Government  ...       76.5   \n4         Company - Private  ...      114.5   \n..                      ...  ...        ...   \n950        Company - Public  ...       84.5   \n951        Company - Public  ...      102.5   \n952    College / University  ...       73.5   \n953       Company - Private  ...      127.5   \n955  Nonprofit Organization  ...       93.5   \n\n                                   company state same state  company_age  \\\n0                        Tecolote Research    NM          0           50   \n1    University of Maryland Medical System    MD          0           39   \n2                                  KnowBe4    FL          1           13   \n3                                     PNNL    WA          1           58   \n4                       Affinity Solutions    NY          1           25   \n..                                     ...   ...        ...          ...   \n950                                    GSK    MA          0          193   \n951                             Eventbrite    TN          0           17   \n952         Software Engineering Institute    PA          1           39   \n953                           Numeric, LLC    PA          0           -1   \n955           Riverside Research Institute    OH          0           56   \n\n     python  sql  spark  aws excel  \n0         1    0      0    0     1  \n1         1    0      0    0     0  \n2         1    1      1    0     1  \n3         1    0      0    0     0  \n4         1    1      1    0     1  \n..      ...  ...    ...  ...   ...  \n950       0    0      0    1     0  \n951       1    1      1    1     0  \n952       0    0      0    0     1  \n953       0    0      0    0     1  \n955       1    0      0    0     0  \n\n[742 rows x 28 columns]",
      "text/html": "<div>\n<style scoped>\n    .dataframe tbody tr th:only-of-type {\n        vertical-align: middle;\n    }\n\n    .dataframe tbody tr th {\n        vertical-align: top;\n    }\n\n    .dataframe thead th {\n        text-align: right;\n    }\n</style>\n<table border=\"1\" class=\"dataframe\">\n  <thead>\n    <tr style=\"text-align: right;\">\n      <th></th>\n      <th>Job Title</th>\n      <th>Salary Estimate</th>\n      <th>Job Description</th>\n      <th>Rating</th>\n      <th>Company Name</th>\n      <th>Location</th>\n      <th>Headquarters</th>\n      <th>Size</th>\n      <th>Founded</th>\n      <th>Type of ownership</th>\n      <th>...</th>\n      <th>avg_salary</th>\n      <th>company</th>\n      <th>state</th>\n      <th>same state</th>\n      <th>company_age</th>\n      <th>python</th>\n      <th>sql</th>\n      <th>spark</th>\n      <th>aws</th>\n      <th>excel</th>\n    </tr>\n  </thead>\n  <tbody>\n    <tr>\n      <th>0</th>\n      <td>Data Scientist</td>\n      <td>$53K-$91K (Glassdoor est.)</td>\n      <td>Data Scientist\\nLocation: Albuquerque, NM\\nEdu...</td>\n      <td>3.8</td>\n      <td>Tecolote Research\\n3.8</td>\n      <td>Albuquerque, NM</td>\n      <td>Goleta, CA</td>\n      <td>501 to 1000 employees</td>\n      <td>1973</td>\n      <td>Company - Private</td>\n      <td>...</td>\n      <td>72.0</td>\n      <td>Tecolote Research</td>\n      <td>NM</td>\n      <td>0</td>\n      <td>50</td>\n      <td>1</td>\n      <td>0</td>\n      <td>0</td>\n      <td>0</td>\n      <td>1</td>\n    </tr>\n    <tr>\n      <th>1</th>\n      <td>Healthcare Data Scientist</td>\n      <td>$63K-$112K (Glassdoor est.)</td>\n      <td>What You Will Do:\\n\\nI. General Summary\\n\\nThe...</td>\n      <td>3.4</td>\n      <td>University of Maryland Medical System\\n3.4</td>\n      <td>Linthicum, MD</td>\n      <td>Baltimore, MD</td>\n      <td>10000+ employees</td>\n      <td>1984</td>\n      <td>Other Organization</td>\n      <td>...</td>\n      <td>87.5</td>\n      <td>University of Maryland Medical System</td>\n      <td>MD</td>\n      <td>0</td>\n      <td>39</td>\n      <td>1</td>\n      <td>0</td>\n      <td>0</td>\n      <td>0</td>\n      <td>0</td>\n    </tr>\n    <tr>\n      <th>2</th>\n      <td>Data Scientist</td>\n      <td>$80K-$90K (Glassdoor est.)</td>\n      <td>KnowBe4, Inc. is a high growth information sec...</td>\n      <td>4.8</td>\n      <td>KnowBe4\\n4.8</td>\n      <td>Clearwater, FL</td>\n      <td>Clearwater, FL</td>\n      <td>501 to 1000 employees</td>\n      <td>2010</td>\n      <td>Company - Private</td>\n      <td>...</td>\n      <td>85.0</td>\n      <td>KnowBe4</td>\n      <td>FL</td>\n      <td>1</td>\n      <td>13</td>\n      <td>1</td>\n      <td>1</td>\n      <td>1</td>\n      <td>0</td>\n      <td>1</td>\n    </tr>\n    <tr>\n      <th>3</th>\n      <td>Data Scientist</td>\n      <td>$56K-$97K (Glassdoor est.)</td>\n      <td>*Organization and Job ID**\\nJob ID: 310709\\n\\n...</td>\n      <td>3.8</td>\n      <td>PNNL\\n3.8</td>\n      <td>Richland, WA</td>\n      <td>Richland, WA</td>\n      <td>1001 to 5000 employees</td>\n      <td>1965</td>\n      <td>Government</td>\n      <td>...</td>\n      <td>76.5</td>\n      <td>PNNL</td>\n      <td>WA</td>\n      <td>1</td>\n      <td>58</td>\n      <td>1</td>\n      <td>0</td>\n      <td>0</td>\n      <td>0</td>\n      <td>0</td>\n    </tr>\n    <tr>\n      <th>4</th>\n      <td>Data Scientist</td>\n      <td>$86K-$143K (Glassdoor est.)</td>\n      <td>Data Scientist\\nAffinity Solutions / Marketing...</td>\n      <td>2.9</td>\n      <td>Affinity Solutions\\n2.9</td>\n      <td>New York, NY</td>\n      <td>New York, NY</td>\n      <td>51 to 200 employees</td>\n      <td>1998</td>\n      <td>Company - Private</td>\n      <td>...</td>\n      <td>114.5</td>\n      <td>Affinity Solutions</td>\n      <td>NY</td>\n      <td>1</td>\n      <td>25</td>\n      <td>1</td>\n      <td>1</td>\n      <td>1</td>\n      <td>0</td>\n      <td>1</td>\n    </tr>\n    <tr>\n      <th>...</th>\n      <td>...</td>\n      <td>...</td>\n      <td>...</td>\n      <td>...</td>\n      <td>...</td>\n      <td>...</td>\n      <td>...</td>\n      <td>...</td>\n      <td>...</td>\n      <td>...</td>\n      <td>...</td>\n      <td>...</td>\n      <td>...</td>\n      <td>...</td>\n      <td>...</td>\n      <td>...</td>\n      <td>...</td>\n      <td>...</td>\n      <td>...</td>\n      <td>...</td>\n      <td>...</td>\n    </tr>\n    <tr>\n      <th>950</th>\n      <td>Sr Scientist, Immuno-Oncology - Oncology</td>\n      <td>$58K-$111K (Glassdoor est.)</td>\n      <td>Site Name: USA - Massachusetts - Cambridge\\nPo...</td>\n      <td>3.9</td>\n      <td>GSK\\n3.9</td>\n      <td>Cambridge, MA</td>\n      <td>Brentford, United Kingdom</td>\n      <td>10000+ employees</td>\n      <td>1830</td>\n      <td>Company - Public</td>\n      <td>...</td>\n      <td>84.5</td>\n      <td>GSK</td>\n      <td>MA</td>\n      <td>0</td>\n      <td>193</td>\n      <td>0</td>\n      <td>0</td>\n      <td>0</td>\n      <td>1</td>\n      <td>0</td>\n    </tr>\n    <tr>\n      <th>951</th>\n      <td>Senior Data Engineer</td>\n      <td>$72K-$133K (Glassdoor est.)</td>\n      <td>THE CHALLENGE\\nEventbrite has a world-class da...</td>\n      <td>4.4</td>\n      <td>Eventbrite\\n4.4</td>\n      <td>Nashville, TN</td>\n      <td>San Francisco, CA</td>\n      <td>1001 to 5000 employees</td>\n      <td>2006</td>\n      <td>Company - Public</td>\n      <td>...</td>\n      <td>102.5</td>\n      <td>Eventbrite</td>\n      <td>TN</td>\n      <td>0</td>\n      <td>17</td>\n      <td>1</td>\n      <td>1</td>\n      <td>1</td>\n      <td>1</td>\n      <td>0</td>\n    </tr>\n    <tr>\n      <th>952</th>\n      <td>Project Scientist - Auton Lab, Robotics Institute</td>\n      <td>$56K-$91K (Glassdoor est.)</td>\n      <td>The Auton Lab at Carnegie Mellon University is...</td>\n      <td>2.6</td>\n      <td>Software Engineering Institute\\n2.6</td>\n      <td>Pittsburgh, PA</td>\n      <td>Pittsburgh, PA</td>\n      <td>501 to 1000 employees</td>\n      <td>1984</td>\n      <td>College / University</td>\n      <td>...</td>\n      <td>73.5</td>\n      <td>Software Engineering Institute</td>\n      <td>PA</td>\n      <td>1</td>\n      <td>39</td>\n      <td>0</td>\n      <td>0</td>\n      <td>0</td>\n      <td>0</td>\n      <td>1</td>\n    </tr>\n    <tr>\n      <th>953</th>\n      <td>Data Science Manager</td>\n      <td>$95K-$160K (Glassdoor est.)</td>\n      <td>Data Science ManagerResponsibilities:\\n\\nOvers...</td>\n      <td>3.2</td>\n      <td>Numeric, LLC\\n3.2</td>\n      <td>Allentown, PA</td>\n      <td>Chadds Ford, PA</td>\n      <td>1 to 50 employees</td>\n      <td>-1</td>\n      <td>Company - Private</td>\n      <td>...</td>\n      <td>127.5</td>\n      <td>Numeric, LLC</td>\n      <td>PA</td>\n      <td>0</td>\n      <td>-1</td>\n      <td>0</td>\n      <td>0</td>\n      <td>0</td>\n      <td>0</td>\n      <td>1</td>\n    </tr>\n    <tr>\n      <th>955</th>\n      <td>Research Scientist – Security and Privacy</td>\n      <td>$61K-$126K (Glassdoor est.)</td>\n      <td>Returning Candidate? Log back in to the Career...</td>\n      <td>3.6</td>\n      <td>Riverside Research Institute\\n3.6</td>\n      <td>Beavercreek, OH</td>\n      <td>Arlington, VA</td>\n      <td>501 to 1000 employees</td>\n      <td>1967</td>\n      <td>Nonprofit Organization</td>\n      <td>...</td>\n      <td>93.5</td>\n      <td>Riverside Research Institute</td>\n      <td>OH</td>\n      <td>0</td>\n      <td>56</td>\n      <td>1</td>\n      <td>0</td>\n      <td>0</td>\n      <td>0</td>\n      <td>0</td>\n    </tr>\n  </tbody>\n</table>\n<p>742 rows × 28 columns</p>\n</div>"
     },
     "execution_count": 40,
     "metadata": {},
     "output_type": "execute_result"
    }
   ],
   "source": [
    "df.drop('Unnamed: 0', axis=1, inplace=True)\n",
    "df"
   ],
   "metadata": {
    "collapsed": false,
    "ExecuteTime": {
     "start_time": "2023-04-08T21:18:03.479428Z",
     "end_time": "2023-04-08T21:18:03.503074Z"
    }
   }
  },
  {
   "cell_type": "code",
   "execution_count": 41,
   "outputs": [],
   "source": [
    "df.to_csv('cleaned_data.csv')"
   ],
   "metadata": {
    "collapsed": false,
    "ExecuteTime": {
     "start_time": "2023-04-08T21:19:15.604473Z",
     "end_time": "2023-04-08T21:19:15.670338Z"
    }
   }
  },
  {
   "cell_type": "code",
   "execution_count": null,
   "outputs": [],
   "source": [],
   "metadata": {
    "collapsed": false
   }
  }
 ],
 "metadata": {
  "kernelspec": {
   "display_name": "Python 3",
   "language": "python",
   "name": "python3"
  },
  "language_info": {
   "codemirror_mode": {
    "name": "ipython",
    "version": 2
   },
   "file_extension": ".py",
   "mimetype": "text/x-python",
   "name": "python",
   "nbconvert_exporter": "python",
   "pygments_lexer": "ipython2",
   "version": "2.7.6"
  }
 },
 "nbformat": 4,
 "nbformat_minor": 0
}
